{
 "cells": [
  {
   "cell_type": "code",
   "execution_count": 1,
   "id": "03743b16",
   "metadata": {},
   "outputs": [],
   "source": [
    "import warnings\n",
    "warnings.filterwarnings('ignore')\n",
    "\n",
    "import pandas as pd\n",
    "import numpy as np\n",
    "from numpy import random\n",
    "import seaborn as sns\n",
    "import matplotlib.pyplot as plt\n",
    "import plotly.express as px # data visualization\n",
    "\n",
    "\n",
    "%matplotlib inline"
   ]
  },
  {
   "cell_type": "code",
   "execution_count": 2,
   "id": "89185f27",
   "metadata": {},
   "outputs": [],
   "source": [
    "election = pd.read_csv('Election_project1.csv')\n",
    "election.head(10)\n",
    "election_cpy=election.copy()"
   ]
  },
  {
   "cell_type": "code",
   "execution_count": 3,
   "id": "94e09868",
   "metadata": {},
   "outputs": [
    {
     "data": {
      "text/html": [
       "<div>\n",
       "<style scoped>\n",
       "    .dataframe tbody tr th:only-of-type {\n",
       "        vertical-align: middle;\n",
       "    }\n",
       "\n",
       "    .dataframe tbody tr th {\n",
       "        vertical-align: top;\n",
       "    }\n",
       "\n",
       "    .dataframe thead th {\n",
       "        text-align: right;\n",
       "    }\n",
       "</style>\n",
       "<table border=\"1\" class=\"dataframe\">\n",
       "  <thead>\n",
       "    <tr style=\"text-align: right;\">\n",
       "      <th></th>\n",
       "      <th>state</th>\n",
       "      <th>total_votes</th>\n",
       "      <th>rep_votes</th>\n",
       "      <th>rep_percent</th>\n",
       "      <th>rep_ev</th>\n",
       "      <th>dem_votes</th>\n",
       "      <th>dem_percent</th>\n",
       "      <th>dem_ev</th>\n",
       "    </tr>\n",
       "  </thead>\n",
       "  <tbody>\n",
       "    <tr>\n",
       "      <th>0</th>\n",
       "      <td>Alabama</td>\n",
       "      <td>160477</td>\n",
       "      <td>55634</td>\n",
       "      <td>34.7</td>\n",
       "      <td>0</td>\n",
       "      <td>96368.0</td>\n",
       "      <td>60.1</td>\n",
       "      <td>11</td>\n",
       "    </tr>\n",
       "    <tr>\n",
       "      <th>1</th>\n",
       "      <td>Arkansas</td>\n",
       "      <td>127966</td>\n",
       "      <td>44800</td>\n",
       "      <td>35.0</td>\n",
       "      <td>0</td>\n",
       "      <td>81242.0</td>\n",
       "      <td>63.5</td>\n",
       "      <td>8</td>\n",
       "    </tr>\n",
       "    <tr>\n",
       "      <th>2</th>\n",
       "      <td>California</td>\n",
       "      <td>302399</td>\n",
       "      <td>164755</td>\n",
       "      <td>54.5</td>\n",
       "      <td>9</td>\n",
       "      <td>124985.0</td>\n",
       "      <td>41.3</td>\n",
       "      <td>0</td>\n",
       "    </tr>\n",
       "    <tr>\n",
       "      <th>3</th>\n",
       "      <td>Colorado</td>\n",
       "      <td>220895</td>\n",
       "      <td>92701</td>\n",
       "      <td>42.0</td>\n",
       "      <td>0</td>\n",
       "      <td>122705.0</td>\n",
       "      <td>55.5</td>\n",
       "      <td>4</td>\n",
       "    </tr>\n",
       "    <tr>\n",
       "      <th>4</th>\n",
       "      <td>Connecticut</td>\n",
       "      <td>180195</td>\n",
       "      <td>102572</td>\n",
       "      <td>56.9</td>\n",
       "      <td>6</td>\n",
       "      <td>74014.0</td>\n",
       "      <td>41.1</td>\n",
       "      <td>0</td>\n",
       "    </tr>\n",
       "    <tr>\n",
       "      <th>...</th>\n",
       "      <td>...</td>\n",
       "      <td>...</td>\n",
       "      <td>...</td>\n",
       "      <td>...</td>\n",
       "      <td>...</td>\n",
       "      <td>...</td>\n",
       "      <td>...</td>\n",
       "      <td>...</td>\n",
       "    </tr>\n",
       "    <tr>\n",
       "      <th>1216</th>\n",
       "      <td>Virginia</td>\n",
       "      <td>2739447</td>\n",
       "      <td>1437490</td>\n",
       "      <td>52.5</td>\n",
       "      <td>13</td>\n",
       "      <td>1217290.0</td>\n",
       "      <td>44.4</td>\n",
       "      <td>0</td>\n",
       "    </tr>\n",
       "    <tr>\n",
       "      <th>1217</th>\n",
       "      <td>Washington</td>\n",
       "      <td>2487433</td>\n",
       "      <td>1108864</td>\n",
       "      <td>44.6</td>\n",
       "      <td>0</td>\n",
       "      <td>1247652.0</td>\n",
       "      <td>50.2</td>\n",
       "      <td>11</td>\n",
       "    </tr>\n",
       "    <tr>\n",
       "      <th>1218</th>\n",
       "      <td>West Virginia</td>\n",
       "      <td>648124</td>\n",
       "      <td>336475</td>\n",
       "      <td>51.9</td>\n",
       "      <td>5</td>\n",
       "      <td>295497.0</td>\n",
       "      <td>45.6</td>\n",
       "      <td>0</td>\n",
       "    </tr>\n",
       "    <tr>\n",
       "      <th>1219</th>\n",
       "      <td>Wisconsin</td>\n",
       "      <td>2598607</td>\n",
       "      <td>1237279</td>\n",
       "      <td>47.6</td>\n",
       "      <td>0</td>\n",
       "      <td>1242987.0</td>\n",
       "      <td>47.8</td>\n",
       "      <td>11</td>\n",
       "    </tr>\n",
       "    <tr>\n",
       "      <th>1220</th>\n",
       "      <td>Wyoming</td>\n",
       "      <td>218351</td>\n",
       "      <td>147947</td>\n",
       "      <td>67.8</td>\n",
       "      <td>3</td>\n",
       "      <td>60481.0</td>\n",
       "      <td>27.7</td>\n",
       "      <td>0</td>\n",
       "    </tr>\n",
       "  </tbody>\n",
       "</table>\n",
       "<p>1221 rows × 8 columns</p>\n",
       "</div>"
      ],
      "text/plain": [
       "              state  total_votes  rep_votes  rep_percent rep_ev  dem_votes  \\\n",
       "0           Alabama       160477      55634         34.7      0    96368.0   \n",
       "1          Arkansas       127966      44800         35.0      0    81242.0   \n",
       "2        California       302399     164755         54.5      9   124985.0   \n",
       "3          Colorado       220895      92701         42.0      0   122705.0   \n",
       "4       Connecticut       180195     102572         56.9      6    74014.0   \n",
       "...             ...          ...        ...          ...    ...        ...   \n",
       "1216       Virginia      2739447    1437490         52.5     13  1217290.0   \n",
       "1217     Washington      2487433    1108864         44.6      0  1247652.0   \n",
       "1218  West Virginia       648124     336475         51.9      5   295497.0   \n",
       "1219      Wisconsin      2598607    1237279         47.6      0  1242987.0   \n",
       "1220        Wyoming       218351     147947         67.8      3    60481.0   \n",
       "\n",
       "      dem_percent dem_ev  \n",
       "0            60.1     11  \n",
       "1            63.5      8  \n",
       "2            41.3      0  \n",
       "3            55.5      4  \n",
       "4            41.1      0  \n",
       "...           ...    ...  \n",
       "1216         44.4      0  \n",
       "1217         50.2     11  \n",
       "1218         45.6      0  \n",
       "1219         47.8     11  \n",
       "1220         27.7      0  \n",
       "\n",
       "[1221 rows x 8 columns]"
      ]
     },
     "execution_count": 3,
     "metadata": {},
     "output_type": "execute_result"
    }
   ],
   "source": [
    "\n",
    "election_cpy.drop('other_votes', inplace=True, axis=1)\n",
    "election_cpy.drop('socialist_vote', inplace=True, axis=1)\n",
    "election_cpy.drop('other_percent', inplace=True, axis=1)\n",
    "election_cpy.drop('socialist_percent', inplace=True, axis=1)\n",
    "election_cpy.drop('socialist_ev', inplace=True, axis=1)\n",
    "election_cpy.drop('other_ev', inplace=True, axis=1)\n",
    "\n",
    "\n",
    "election_cpy"
   ]
  },
  {
   "cell_type": "code",
   "execution_count": 4,
   "id": "1b6d7af5",
   "metadata": {},
   "outputs": [
    {
     "name": "stdout",
     "output_type": "stream",
     "text": [
      "<class 'pandas.core.frame.DataFrame'>\n",
      "RangeIndex: 1221 entries, 0 to 1220\n",
      "Data columns (total 8 columns):\n",
      " #   Column       Non-Null Count  Dtype  \n",
      "---  ------       --------------  -----  \n",
      " 0   state        1221 non-null   object \n",
      " 1   total_votes  1221 non-null   int64  \n",
      " 2   rep_votes    1221 non-null   int64  \n",
      " 3   rep_percent  1221 non-null   float64\n",
      " 4   rep_ev       1220 non-null   object \n",
      " 5   dem_votes    1220 non-null   float64\n",
      " 6   dem_percent  1220 non-null   float64\n",
      " 7   dem_ev       1216 non-null   object \n",
      "dtypes: float64(3), int64(2), object(3)\n",
      "memory usage: 76.4+ KB\n"
     ]
    }
   ],
   "source": [
    "election_cpy.info()"
   ]
  },
  {
   "cell_type": "code",
   "execution_count": 5,
   "id": "5cd8a83f",
   "metadata": {},
   "outputs": [
    {
     "data": {
      "text/plain": [
       "state          0\n",
       "total_votes    0\n",
       "rep_votes      0\n",
       "rep_percent    0\n",
       "rep_ev         1\n",
       "dem_votes      1\n",
       "dem_percent    1\n",
       "dem_ev         5\n",
       "dtype: int64"
      ]
     },
     "execution_count": 5,
     "metadata": {},
     "output_type": "execute_result"
    }
   ],
   "source": [
    "election_cpy.isnull().sum()\n"
   ]
  },
  {
   "cell_type": "code",
   "execution_count": 6,
   "id": "7bbfd6b0",
   "metadata": {},
   "outputs": [
    {
     "data": {
      "text/plain": [
       "state          0\n",
       "total_votes    0\n",
       "rep_votes      0\n",
       "rep_percent    0\n",
       "rep_ev         1\n",
       "dem_votes      1\n",
       "dem_percent    1\n",
       "dem_ev         5\n",
       "dtype: int64"
      ]
     },
     "execution_count": 6,
     "metadata": {},
     "output_type": "execute_result"
    }
   ],
   "source": [
    "election_cpy_new=election_cpy.dropna(axis=0).copy()\n",
    "election_cpy_new.head(10)\n",
    "election_cpy.isnull().sum()\n"
   ]
  },
  {
   "cell_type": "code",
   "execution_count": 7,
   "id": "2ea730a0",
   "metadata": {},
   "outputs": [
    {
     "name": "stdout",
     "output_type": "stream",
     "text": [
      "<class 'pandas.core.frame.DataFrame'>\n",
      "Int64Index: 1216 entries, 0 to 1220\n",
      "Data columns (total 8 columns):\n",
      " #   Column       Non-Null Count  Dtype  \n",
      "---  ------       --------------  -----  \n",
      " 0   state        1216 non-null   object \n",
      " 1   total_votes  1216 non-null   int64  \n",
      " 2   rep_votes    1216 non-null   int64  \n",
      " 3   rep_percent  1216 non-null   float64\n",
      " 4   rep_ev       1216 non-null   object \n",
      " 5   dem_votes    1216 non-null   float64\n",
      " 6   dem_percent  1216 non-null   float64\n",
      " 7   dem_ev       1216 non-null   object \n",
      "dtypes: float64(3), int64(2), object(3)\n",
      "memory usage: 85.5+ KB\n"
     ]
    }
   ],
   "source": [
    "election_cpy_new.describe()\n",
    "election_cpy_new.info()\n",
    "election_cpy_new['rep_ev'] = election_cpy_new['rep_ev'].str.replace('*', '')\n",
    "election_cpy_new['dem_ev'] = election_cpy_new['dem_ev'].str.replace('*', '')\n"
   ]
  },
  {
   "cell_type": "code",
   "execution_count": 8,
   "id": "024d6cb1",
   "metadata": {},
   "outputs": [
    {
     "name": "stdout",
     "output_type": "stream",
     "text": [
      "<class 'pandas.core.frame.DataFrame'>\n",
      "Int64Index: 1216 entries, 0 to 1220\n",
      "Data columns (total 8 columns):\n",
      " #   Column       Non-Null Count  Dtype \n",
      "---  ------       --------------  ----- \n",
      " 0   state        1216 non-null   object\n",
      " 1   total_votes  1216 non-null   int64 \n",
      " 2   rep_votes    1216 non-null   int64 \n",
      " 3   rep_percent  1216 non-null   int64 \n",
      " 4   rep_ev       1216 non-null   int64 \n",
      " 5   dem_votes    1216 non-null   int64 \n",
      " 6   dem_percent  1216 non-null   int64 \n",
      " 7   dem_ev       1216 non-null   int64 \n",
      "dtypes: int64(7), object(1)\n",
      "memory usage: 85.5+ KB\n"
     ]
    }
   ],
   "source": [
    "election_cpy_new[\"rep_percent\"]= election_cpy_new[\"rep_percent\"].astype('int64')\n",
    "election_cpy_new[\"dem_votes\"]= election_cpy_new[\"dem_votes\"].astype('int64')\n",
    "election_cpy_new[\"dem_percent\"]= election_cpy_new[\"dem_percent\"].astype('int64')\n",
    "election_cpy_new['rep_ev'] = pd.to_numeric(election_cpy_new['rep_ev'], errors='coerce')\n",
    "election_cpy_new['dem_ev'] = pd.to_numeric(election_cpy_new['dem_ev'], errors='coerce')\n",
    "\n",
    "election_cpy_new[\"rep_ev\"]= election_cpy_new[\"rep_ev\"].astype('int64')\n",
    "election_cpy_new[\"dem_ev\"]= election_cpy_new[\"dem_ev\"].astype('int64')\n",
    "\n",
    "\n",
    "\n",
    "\n",
    "\n",
    "election_cpy_new.info()\n"
   ]
  },
  {
   "cell_type": "code",
   "execution_count": 9,
   "id": "a0015da9",
   "metadata": {},
   "outputs": [
    {
     "data": {
      "text/plain": [
       "0       False\n",
       "1       False\n",
       "2       False\n",
       "3       False\n",
       "4       False\n",
       "        ...  \n",
       "1216    False\n",
       "1217    False\n",
       "1218    False\n",
       "1219    False\n",
       "1220    False\n",
       "Length: 1216, dtype: bool"
      ]
     },
     "execution_count": 9,
     "metadata": {},
     "output_type": "execute_result"
    }
   ],
   "source": [
    "election_cpy_new.duplicated()\n"
   ]
  },
  {
   "cell_type": "code",
   "execution_count": 10,
   "id": "9a2d1513",
   "metadata": {},
   "outputs": [
    {
     "name": "stdout",
     "output_type": "stream",
     "text": [
      "<class 'pandas.core.frame.DataFrame'>\n",
      "Int64Index: 1216 entries, 0 to 1220\n",
      "Data columns (total 8 columns):\n",
      " #   Column       Non-Null Count  Dtype \n",
      "---  ------       --------------  ----- \n",
      " 0   state        1216 non-null   object\n",
      " 1   total_votes  1216 non-null   int64 \n",
      " 2   rep_votes    1216 non-null   int64 \n",
      " 3   rep_percent  1216 non-null   int64 \n",
      " 4   rep_ev       1216 non-null   int64 \n",
      " 5   dem_votes    1216 non-null   int64 \n",
      " 6   dem_percent  1216 non-null   int64 \n",
      " 7   dem_ev       1216 non-null   int64 \n",
      "dtypes: int64(7), object(1)\n",
      "memory usage: 85.5+ KB\n"
     ]
    }
   ],
   "source": [
    "election_cpy_new.info()"
   ]
  },
  {
   "cell_type": "code",
   "execution_count": 11,
   "id": "2a7fd805",
   "metadata": {},
   "outputs": [
    {
     "data": {
      "text/plain": [
       "state          0\n",
       "total_votes    0\n",
       "rep_votes      0\n",
       "rep_percent    0\n",
       "rep_ev         0\n",
       "dem_votes      0\n",
       "dem_percent    0\n",
       "dem_ev         0\n",
       "dtype: int64"
      ]
     },
     "execution_count": 11,
     "metadata": {},
     "output_type": "execute_result"
    }
   ],
   "source": [
    "election_cpy_new.isnull().sum()\n"
   ]
  },
  {
   "cell_type": "code",
   "execution_count": 12,
   "id": "20410519",
   "metadata": {},
   "outputs": [
    {
     "data": {
      "text/plain": [
       "state          object\n",
       "total_votes     int64\n",
       "rep_votes       int64\n",
       "rep_percent     int64\n",
       "rep_ev          int64\n",
       "dem_votes       int64\n",
       "dem_percent     int64\n",
       "dem_ev          int64\n",
       "dtype: object"
      ]
     },
     "execution_count": 12,
     "metadata": {},
     "output_type": "execute_result"
    }
   ],
   "source": [
    "election_cpy_new.dtypes"
   ]
  },
  {
   "cell_type": "code",
   "execution_count": 13,
   "id": "f09ca26c",
   "metadata": {},
   "outputs": [],
   "source": [
    "#election_cpy_new[\"state\"]= election_cpy_new[\"state\"].astype('category')\n",
    "#replace_map={'Alabama':1,'Arizona':2,'Arkansas':3,'California':4,'Colorado':5,'Connecticut':6,'Delaware':7,'Florida':8,'Georgia':9,'Idaho':10,'Illinois':11,'Indiana':12,'Iowa':13,'Kansas':14,'Kentucky':15,'Louisiana':16,'Maine':17,'Maryland':18,'Massachusetts':19,'Michigan':20,'Minnesota':21,'Mississippi':22,'Missouri':23,'Montana':24\n",
    "#,'Nebraska':25,'Nevada':26,'New Hampshire':27,'New Jersey':28,'New Mexico':29,'New York':30,'North Carolina':31,'North Dakota':32,'Ohio':33,'Oklahoma':34,'Oregon':35,'Pennsylvania':36,'Rhode Island':37,'South Carolina':38,'South Dakota':39,'Tennessee':40,'Texas':41,'Utah':42,'Vermont':43,'Virginia':44,'Washington':45,'West Virginia':46,'Wisconsin':47,'Wyoming':48}\n",
    "#election_cpy_new.replace(replace_map, inplace=True)\n",
    "\n",
    "#election_cpy_new\n",
    "#election_cpy_new.info()"
   ]
  },
  {
   "cell_type": "code",
   "execution_count": 14,
   "id": "30732a44",
   "metadata": {},
   "outputs": [],
   "source": [
    "election_cpy_new.to_csv(r'election_after_handling.csv', index = False, header=True)\n"
   ]
  },
  {
   "cell_type": "code",
   "execution_count": null,
   "id": "027f1b22",
   "metadata": {},
   "outputs": [],
   "source": []
  }
 ],
 "metadata": {
  "kernelspec": {
   "display_name": "Python 3 (ipykernel)",
   "language": "python",
   "name": "python3"
  },
  "language_info": {
   "codemirror_mode": {
    "name": "ipython",
    "version": 3
   },
   "file_extension": ".py",
   "mimetype": "text/x-python",
   "name": "python",
   "nbconvert_exporter": "python",
   "pygments_lexer": "ipython3",
   "version": "3.9.13"
  }
 },
 "nbformat": 4,
 "nbformat_minor": 5
}
